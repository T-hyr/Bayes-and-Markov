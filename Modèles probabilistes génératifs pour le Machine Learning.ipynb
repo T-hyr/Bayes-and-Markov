{
 "cells": [
  {
   "cell_type": "markdown",
   "metadata": {},
   "source": [
    "# <span style=\"color:red\">TP 3 : Modèles probabilistes génératifs pour le Machine Learning</span>"
   ]
  },
  {
   "cell_type": "code",
   "execution_count": 1,
   "metadata": {},
   "outputs": [],
   "source": [
    "import numpy as np\n",
    "import matplotlib.pyplot as plt\n",
    "import pandas as pd \n",
    "\n",
    "from collections import Counter\n",
    "\n",
    "\n",
    "from TP3_functions.load_ag_news import load_ag_news"
   ]
  },
  {
   "cell_type": "markdown",
   "metadata": {},
   "source": [
    "## <span style=\"color:red\">Exercice 1</span>"
   ]
  },
  {
   "cell_type": "markdown",
   "metadata": {},
   "source": [
    "1. Les données"
   ]
  },
  {
   "cell_type": "code",
   "execution_count": 2,
   "metadata": {},
   "outputs": [],
   "source": [
    "########################################\n",
    "#### Import du dataset AG News ####\n",
    "########################################\n",
    "\n",
    "def charger():\n",
    "    path = \"TP3_functions/\" \n",
    "    train_set, test_set = load_ag_news(path)\n",
    "    return train_set, test_set"
   ]
  },
  {
   "cell_type": "code",
   "execution_count": 3,
   "metadata": {},
   "outputs": [],
   "source": [
    "train_set, test_set = charger()"
   ]
  },
  {
   "cell_type": "code",
   "execution_count": 4,
   "metadata": {},
   "outputs": [
    {
     "data": {
      "text/plain": [
       "(120000, 7600)"
      ]
     },
     "execution_count": 4,
     "metadata": {},
     "output_type": "execute_result"
    }
   ],
   "source": [
    "len(train_set), len(test_set)"
   ]
  },
  {
   "cell_type": "markdown",
   "metadata": {},
   "source": [
    "2. Développer un Naive Bayes !"
   ]
  },
  {
   "cell_type": "markdown",
   "metadata": {},
   "source": [
    "- Estimation des paramètres sur le corpus d’entraînement par maximum de vraisemblance, donc en comptant les di érents patterns. Vous a cherai clairement les valeurs du paramètre   et Åi Ë {0, 1, 2, 3}, bi(¨London¨)."
   ]
  },
  {
   "cell_type": "markdown",
   "metadata": {},
   "source": [
    "    On à pour formule :\n",
    "    \n",
    "## $\\pi = \\frac{N_{i}}{N}$\t"
   ]
  },
  {
   "cell_type": "code",
   "execution_count": 5,
   "metadata": {},
   "outputs": [],
   "source": [
    "def param_pi(i):\n",
    "    count = 0\n",
    "    for j in range(len(train_set)):\n",
    "        if train_set[j][0] == i:\n",
    "            count = count + 1\n",
    "    return  count / len(train_set)           \n"
   ]
  },
  {
   "cell_type": "code",
   "execution_count": 6,
   "metadata": {},
   "outputs": [
    {
     "name": "stdout",
     "output_type": "stream",
     "text": [
      "pi(1) = 0.25\n"
     ]
    }
   ],
   "source": [
    "print(\"pi(1) = {}\".format(param_pi(i = 1)))"
   ]
  },
  {
   "cell_type": "markdown",
   "metadata": {},
   "source": [
    "    On à pour formule :\n",
    "\n",
    "## $b_{i}(y_{t}) = \\frac{N_{i,y_{t}}}{\\sum_{y_{t}} N_{i,y_{t}}} $"
   ]
  },
  {
   "cell_type": "code",
   "execution_count": 7,
   "metadata": {},
   "outputs": [],
   "source": [
    "##########################################################\n",
    "### On crée le param le dictionnaire du paramN_i_y(t): ###\n",
    "##########################################################\n",
    "\n",
    "b = {}\n",
    "\n",
    "for label, text in train_set:\n",
    "    if label not in b:\n",
    "        b[label] = {}\n",
    "    for word in text:\n",
    "        if word in b[label]:\n",
    "            b[label][word] = b[label][word] + 1\n",
    "        else:\n",
    "            b[label][word] = 1\n",
    "\n"
   ]
  },
  {
   "cell_type": "code",
   "execution_count": 8,
   "metadata": {},
   "outputs": [],
   "source": [
    "def param_b(y_t):\n",
    "    b\n",
    "\n",
    "    classes = [0, 1, 2, 3]\n",
    "\n",
    "    B = np.zeros((1, 4))\n",
    "    for i in classes:\n",
    "        if y_t in b[i]:\n",
    "            B[0, i] = b[i][y_t] / sum(b[i].values())\n",
    "        else:\n",
    "            B[0, i] = 0\n",
    "        \n",
    "    return B"
   ]
  },
  {
   "cell_type": "markdown",
   "metadata": {},
   "source": [
    "Création des dictionnaires ayant en valeur la liste des valeurs $b_{i}(y_{t})$ pour l'ensemble des elements de b "
   ]
  },
  {
   "cell_type": "code",
   "execution_count": 9,
   "metadata": {},
   "outputs": [],
   "source": [
    "# Liste des param_b pour la classe 0\n",
    "B0 = dict.fromkeys(b[0])\n",
    "for key in b[0].keys():\n",
    "    B0[key] = b[0][key] / sum(b[0].values())\n",
    "\n",
    "# Liste des param_b la classe 1\n",
    "B1 = dict.fromkeys(b[1])\n",
    "for key in b[1].keys():\n",
    "    B1[key] = b[1][key] / sum(b[1].values())\n",
    "\n",
    "# Liste des param_b la classe 2\n",
    "B2 = dict.fromkeys(b[2])\n",
    "for key in b[2].keys():\n",
    "    B2[key] = b[2][key] / sum(b[2].values())\n",
    "\n",
    "# Liste des param_b la classe 3\n",
    "B3 = dict.fromkeys(b[3])\n",
    "for key in b[3].keys():\n",
    "    B3[key] = b[3][key] / sum(b[3].values())"
   ]
  },
  {
   "cell_type": "code",
   "execution_count": 10,
   "metadata": {},
   "outputs": [
    {
     "name": "stdout",
     "output_type": "stream",
     "text": [
      "b1(¨London¨) = 0.00018036294574312617\n"
     ]
    }
   ],
   "source": [
    "print(\"b1(¨London¨) = {}\".format((param_b(y_t = 'London')[0,1])))"
   ]
  },
  {
   "cell_type": "markdown",
   "metadata": {},
   "source": [
    "* Coder un modèle Naive Bayes. \n",
    "    * La formule est :\n",
    "\n",
    "##  $p(X, Y_{1}, ..., Y_{T}) =  \\prod_{t=1}^{T} {p(Y_{t}| X)}$\n",
    "\n",
    "Point de vue génératif :\n",
    "\n",
    "## ￼$p(X = \\lambda_{i} | y_{1:T} ) = \\frac{\\pi_{i} * \\prod_{t=1}^{T} b_{i}(y_{t})}{\\sum \\pi(j) \\prod_{t=1}^{T} b_{j}(y_{t})} = \\frac{p(X = \\lambda_{i}) * \\prod_{t=1}^{T} p(y_{t}|X = \\lambda_{i} )}{\\sum{p(X = \\lambda_{j}) * \\prod_{t=1}^{T} p(y_{t}|X = \\lambda_{j} )}}  $"
   ]
  },
  {
   "cell_type": "markdown",
   "metadata": {},
   "source": [
    "Résoudre le problème du sur-apprentissage\n",
    "\n",
    "## ￼$p(X = \\lambda_{i} | y_{1:T} ) = \\frac{\\pi_{i} * \\prod_{t=1}^{T} (b_{i}(y_{t}) + \\epsilon)}{\\sum \\pi(j) \\prod_{t=1}^{T} (b_{j}(y_{t}) + \\epsilon)} = \\frac{A}{sum(A)}$"
   ]
  },
  {
   "cell_type": "code",
   "execution_count": 11,
   "metadata": {},
   "outputs": [],
   "source": [
    "phrase = [\"Arsenal\", \"is\", \"a\", \"londonian\", \"team\", \".\"]\n"
   ]
  },
  {
   "cell_type": "code",
   "execution_count": 12,
   "metadata": {},
   "outputs": [],
   "source": [
    "def Naive_Bayes(phrase, epsilon, classes) :\n",
    "\n",
    "    bayes_coeff = np.zeros((1,len(classes)))\n",
    "    \n",
    "    for i in classes:\n",
    "        # initialisation avec la valeur pi\n",
    "        A = param_pi(i)\n",
    "        for mot in phrase:\n",
    "            if mot in b[i]:\n",
    "                A = A * (param_b(y_t = mot)[0,i] + epsilon)\n",
    "            else:\n",
    "                A = A * epsilon\n",
    "        bayes_coeff[0, i] = A\n",
    "    \n",
    "\n",
    "    bayes_coeff = bayes_coeff / np.sum(bayes_coeff)\n",
    "\n",
    "    return bayes_coeff     \n"
   ]
  },
  {
   "cell_type": "code",
   "execution_count": 13,
   "metadata": {},
   "outputs": [],
   "source": [
    "p_X = Naive_Bayes(phrase = phrase, epsilon = 0.00001, classes = [0, 1, 2, 3])"
   ]
  },
  {
   "cell_type": "markdown",
   "metadata": {},
   "source": [
    "Rappel des classes :\n",
    "* World => classe 0\n",
    "* Sport => classe 1\n",
    "* Business => classe 2\n",
    "* Sci/Tech => classe 3"
   ]
  },
  {
   "cell_type": "code",
   "execution_count": 14,
   "metadata": {},
   "outputs": [
    {
     "name": "stdout",
     "output_type": "stream",
     "text": [
      "La prédiction de la phrase est : p(X = Sport ( 1 ) | y1:6) =  0.9924989725858532\n"
     ]
    }
   ],
   "source": [
    "print(\"La prédiction de la phrase est : p(X = Sport (\",np.argmax(p_X),\") | y1:6) = \", np.max(p_X), )\n"
   ]
  },
  {
   "cell_type": "markdown",
   "metadata": {},
   "source": [
    "- Le produit des log est égal aux log de leur somme\n",
    "\n",
    "$\\log(x * y) = \\log(x) + \\log(y)$\n",
    "\n",
    "- Version log du Naive_Bayes :\n",
    "    - Pour eviter les erreurs d'underflows.  "
   ]
  },
  {
   "cell_type": "code",
   "execution_count": 15,
   "metadata": {},
   "outputs": [],
   "source": [
    "def Naive_Bayes_log(phrase, epsilon, classes) :\n",
    "\n",
    "    bayes_coeff = np.zeros((1,len(classes)))\n",
    "    \n",
    "    for i in classes:\n",
    "        # initialisation avec la valeur pi\n",
    "        if i == 0:\n",
    "            B = B0\n",
    "        elif i == 1:\n",
    "            B = B1\n",
    "        elif i == 2:\n",
    "            B = B2\n",
    "        elif i == 3:\n",
    "            B = B3\n",
    "\n",
    "            \n",
    "        A = np.log(param_pi(i))\n",
    "        for mot in phrase:\n",
    "            if mot in b[i]:\n",
    "                A = A + np.log((B[mot] + epsilon))          # (param_b(y_t = mot)[0,i]\n",
    "            else:\n",
    "                A = A + np.log(epsilon)\n",
    "        bayes_coeff[0, i] = A\n",
    "    \n",
    "\n",
    "    return bayes_coeff     \n"
   ]
  },
  {
   "cell_type": "code",
   "execution_count": 16,
   "metadata": {},
   "outputs": [],
   "source": [
    "a = Naive_Bayes_log(phrase = phrase, epsilon = 0.00005, classes = [0, 1, 2, 3])"
   ]
  },
  {
   "cell_type": "code",
   "execution_count": 17,
   "metadata": {},
   "outputs": [
    {
     "name": "stdout",
     "output_type": "stream",
     "text": [
      "[[-42.76048522 -37.89785476 -43.50953671 -42.0190564 ]]\n"
     ]
    }
   ],
   "source": [
    "print(a)"
   ]
  },
  {
   "cell_type": "markdown",
   "metadata": {},
   "source": [
    "### Prédiction sur l’ensemble du corpus de test"
   ]
  },
  {
   "cell_type": "code",
   "execution_count": 18,
   "metadata": {},
   "outputs": [],
   "source": [
    "def test_Bayes_model(test_set, epsilon, classes):\n",
    "    \n",
    "    j = 0\n",
    "    classif = np.zeros((len(test_set), 1))\n",
    "    for test in test_set:\n",
    "        print('\"\\rstep : {}'.format(j) , end=\"\")\n",
    "        proba = Naive_Bayes_log(test[1], epsilon, classes)\n",
    "        va_max = np.argmax(proba)\n",
    "        if va_max == test[0]:\n",
    "            classif[j] = 1\n",
    "        else:\n",
    "            classif[j] = 0\n",
    "        j = j + 1\n",
    "            \n",
    "    error = sum(classif) / len(classif)\n",
    "\n",
    "    return error\n"
   ]
  },
  {
   "cell_type": "markdown",
   "metadata": {},
   "source": [
    "-  Prédiction sur l’ensemble du corpus de test, vous indiquerai le pourcentage de textes correctement\n",
    "prédits. Vous ferez ces prédictions trois fois en prenant epsilon dans {10−10, 10−5, 1}.\n",
    "Commentez les résultats en fonction des di érentes valeurs."
   ]
  },
  {
   "cell_type": "markdown",
   "metadata": {},
   "source": [
    "Old method (Calcul iteratif de param_b à chaque iteration) (sans les liste B0, B1, B2, B3)\n",
    "* time = 52m 42,2s\n",
    "    * step : 7599\n",
    "    * array([0.87921053])\n"
   ]
  },
  {
   "cell_type": "markdown",
   "metadata": {},
   "source": [
    "New Methode (Calcul du param B pour chaque element de train test en amont de la fonction test Bayes) (avec les liste B0, B1, B2, B3)\n",
    "* time = 8 mn 34,7 sec\n",
    "    * step = 7599\n",
    "    * array([0.87921053])"
   ]
  },
  {
   "cell_type": "code",
   "execution_count": 19,
   "metadata": {},
   "outputs": [
    {
     "name": "stdout",
     "output_type": "stream",
     "text": [
      "step : 7599"
     ]
    },
    {
     "data": {
      "text/plain": [
       "array([0.90105263])"
      ]
     },
     "execution_count": 19,
     "metadata": {},
     "output_type": "execute_result"
    }
   ],
   "source": [
    "test_Bayes_model(test_set = test_set, epsilon = 10**(-10), classes = [0, 1, 2, 3])"
   ]
  },
  {
   "cell_type": "code",
   "execution_count": 20,
   "metadata": {},
   "outputs": [
    {
     "name": "stdout",
     "output_type": "stream",
     "text": [
      "step : 7599"
     ]
    },
    {
     "data": {
      "text/plain": [
       "array([0.89407895])"
      ]
     },
     "execution_count": 20,
     "metadata": {},
     "output_type": "execute_result"
    }
   ],
   "source": [
    "test_Bayes_model(test_set = test_set, epsilon = 10**(-5), classes = [0, 1, 2, 3])"
   ]
  },
  {
   "cell_type": "code",
   "execution_count": 21,
   "metadata": {},
   "outputs": [
    {
     "name": "stdout",
     "output_type": "stream",
     "text": [
      "step : 7599"
     ]
    },
    {
     "data": {
      "text/plain": [
       "array([0.49092105])"
      ]
     },
     "execution_count": 21,
     "metadata": {},
     "output_type": "execute_result"
    }
   ],
   "source": [
    "test_Bayes_model(test_set = test_set, epsilon = 1, classes = [0, 1, 2, 3])"
   ]
  },
  {
   "cell_type": "markdown",
   "metadata": {},
   "source": [
    "Discussion :\n",
    "\n"
   ]
  },
  {
   "cell_type": "markdown",
   "metadata": {},
   "source": [
    "## <span style=\"color:red\">Exercice 2</span>"
   ]
  },
  {
   "cell_type": "markdown",
   "metadata": {},
   "source": [
    "# Étiquetage morpho-syntaxique avec une chaîne de Markov cachée"
   ]
  },
  {
   "cell_type": "markdown",
   "metadata": {},
   "source": [
    "1. Introduction"
   ]
  },
  {
   "cell_type": "code",
   "execution_count": 22,
   "metadata": {},
   "outputs": [],
   "source": [
    "from TP3_functions.load_conll2000 import load_conll2000\n",
    "\n",
    "path = \"TP3_functions/\"\n",
    "train_set, test_set = load_conll2000(path)"
   ]
  },
  {
   "cell_type": "code",
   "execution_count": 23,
   "metadata": {},
   "outputs": [
    {
     "data": {
      "text/plain": [
       "8936"
      ]
     },
     "execution_count": 23,
     "metadata": {},
     "output_type": "execute_result"
    }
   ],
   "source": [
    "len(train_set)"
   ]
  },
  {
   "cell_type": "markdown",
   "metadata": {},
   "source": [
    "## $pi (i) = \\frac{N_{i}}{N} $"
   ]
  },
  {
   "cell_type": "code",
   "execution_count": 24,
   "metadata": {},
   "outputs": [],
   "source": [
    "def pi_hmm(train_set):\n",
    "    pi_hmm = {} \n",
    "    nombre = 0\n",
    "\n",
    "    for i in range(len(train_set)):\n",
    "        for label, value in train_set[i]:\n",
    "            if label not in pi_hmm:\n",
    "                pi_hmm[label] = 1 \n",
    "                nombre += 1\n",
    "            else:\n",
    "                pi_hmm[label] = pi_hmm[label] + 1 \n",
    "                nombre += 1           \n",
    "\n",
    "    for key in pi_hmm.keys():\n",
    "        pi_hmm[key] = pi_hmm[key] / nombre    \n",
    "\n",
    "    return pi_hmm"
   ]
  },
  {
   "cell_type": "code",
   "execution_count": 25,
   "metadata": {},
   "outputs": [],
   "source": [
    "pi_hmm = pi_hmm(train_set)"
   ]
  },
  {
   "cell_type": "markdown",
   "metadata": {},
   "source": [
    "Est attendu en résultat : $\\pi_{ADJ}$ = 0.067596480373"
   ]
  },
  {
   "cell_type": "code",
   "execution_count": 26,
   "metadata": {},
   "outputs": [
    {
     "data": {
      "text/plain": [
       "0.06759648037331091"
      ]
     },
     "execution_count": 26,
     "metadata": {},
     "output_type": "execute_result"
    }
   ],
   "source": [
    "pi_hmm['ADJ']"
   ]
  },
  {
   "cell_type": "markdown",
   "metadata": {},
   "source": [
    "Calculer $a_{i}(j)$ tel que :\n",
    "## $a_{i}(j) = \\frac{N_{i,j}}{\\sum_{j'} N_{i,j'}} $"
   ]
  },
  {
   "cell_type": "code",
   "execution_count": 27,
   "metadata": {},
   "outputs": [],
   "source": [
    "def a_hmm(pi_hmm, train_set):\n",
    "    \n",
    "    a = {}\n",
    "\n",
    "    for key in pi_hmm.keys():\n",
    "        a[key] = {}\n",
    "        for name in pi_hmm.keys():\n",
    "            a[key][name] = 0\n",
    "\n",
    "    for i in range(len(train_set)):\n",
    "        D = []\n",
    "        for label, value in train_set[i]:\n",
    "            D.append(label)\n",
    "        for j in range(len(D) - 1):\n",
    "            a[D[j]][D[j+1]] += 1\n",
    "\n",
    "    for clas in a.keys():\n",
    "        somme = sum(a[clas].values())\n",
    "        for clef in a[clas]:\n",
    "            a[clas][clef] = a[clas][clef] / somme\n",
    "\n",
    "    return a\n",
    "\n",
    "    "
   ]
  },
  {
   "cell_type": "code",
   "execution_count": 28,
   "metadata": {},
   "outputs": [],
   "source": [
    "a_hmm = a_hmm(pi_hmm, train_set)"
   ]
  },
  {
   "cell_type": "markdown",
   "metadata": {},
   "source": [
    "On estime $a_{'NUM'}('NOUN')$ d'apres l'énoncé la valeur est de 0.34821321140"
   ]
  },
  {
   "cell_type": "code",
   "execution_count": 29,
   "metadata": {},
   "outputs": [
    {
     "data": {
      "text/plain": [
       "0.34821321140656963"
      ]
     },
     "execution_count": 29,
     "metadata": {},
     "output_type": "execute_result"
    }
   ],
   "source": [
    "a_hmm['NUM']['NOUN']"
   ]
  },
  {
   "cell_type": "markdown",
   "metadata": {},
   "source": [
    "Calculer $b_{i}(y_{t})$ tel que : \n",
    "\n",
    "## $b_{i}(y_{t}) = \\frac{N_{i,y_{t}}}{\\sum_{y_{t'}} N_{i,y_{t'}}} $"
   ]
  },
  {
   "cell_type": "code",
   "execution_count": 30,
   "metadata": {},
   "outputs": [],
   "source": [
    "def b_hmm(pi_hmm, train_set):\n",
    "    b_hmm = {}\n",
    "\n",
    "    for key in pi_hmm.keys():\n",
    "        b_hmm[key] = {}\n",
    "    for i in range(len(train_set)):\n",
    "        for label, mot in train_set[i]:\n",
    "            if mot not in (b_hmm[label]) :\n",
    "                b_hmm[label][mot] = 1\n",
    "            else:\n",
    "                b_hmm[label][mot] += 1\n",
    "\n",
    "\n",
    "    for clas in b_hmm.keys():\n",
    "            somme = sum(b_hmm[clas].values())\n",
    "            for clef in b_hmm[clas]:\n",
    "                b_hmm[clas][clef] = b_hmm[clas][clef] / somme\n",
    "    \n",
    "    return b_hmm"
   ]
  },
  {
   "cell_type": "code",
   "execution_count": 31,
   "metadata": {},
   "outputs": [],
   "source": [
    "b_hmm = b_hmm(pi_hmm, train_set)"
   ]
  },
  {
   "cell_type": "markdown",
   "metadata": {},
   "source": [
    "On estime $b_{'PUNCT'}('.')$ d'apres l'énoncé la valeur est de 0.3601948561284"
   ]
  },
  {
   "cell_type": "code",
   "execution_count": 32,
   "metadata": {},
   "outputs": [
    {
     "data": {
      "text/plain": [
       "0.36019485612847296"
      ]
     },
     "execution_count": 32,
     "metadata": {},
     "output_type": "execute_result"
    }
   ],
   "source": [
    "b_hmm['PUNCT']['.']"
   ]
  },
  {
   "cell_type": "markdown",
   "metadata": {},
   "source": [
    "    Coder l’algorithme Foward-Backward."
   ]
  },
  {
   "cell_type": "code",
   "execution_count": 33,
   "metadata": {},
   "outputs": [],
   "source": [
    "def forward_backward(phrase,):\n",
    "    alpha = {}\n",
    "\n",
    "    for i in phrase :\n",
    "        alpha[i] = {}\n",
    "\n",
    "    classes = []\n",
    "    for t in train_set: \n",
    "        for i in t :\n",
    "            if not(i[0] in classes):\n",
    "                classes.append(i[0])\n",
    "\n",
    "    "
   ]
  },
  {
   "cell_type": "code",
   "execution_count": 34,
   "metadata": {},
   "outputs": [],
   "source": [
    "phrase2 =[\"I\", \"am\", \"a\", \"student\", \"in\", \"a\", \"French\", \"school\",\".\"]"
   ]
  },
  {
   "cell_type": "code",
   "execution_count": 35,
   "metadata": {},
   "outputs": [],
   "source": [
    "epsilon = 10**(-5)\n",
    "\n",
    "def alpha(phrase2, epsilon):\n",
    "    alpha = {}\n",
    "\n",
    "    for i in phrase2 :\n",
    "        alpha[i] = {}\n",
    "        for j in a_hmm.keys():\n",
    "            alpha[i][j] = 0\n",
    "\n",
    "    # Initialisation \n",
    "    for key in a_hmm.keys():\n",
    "        alpha[phrase2[0]][key] = pi_hmm[key] * (b_hmm[key].get(phrase2[0], 0) + epsilon)\n",
    "    norma = np.sum(list(alpha[phrase2[0]].values()))\n",
    "    alpha[phrase2[0]] = {key:value / norma for (key,value) in alpha[phrase2[0]].items()}\n",
    "\n",
    "    for i in range(len(phrase2)-1):\n",
    "        for key in a_hmm.keys():\n",
    "            somme_alpha = 0\n",
    "            for clef in a_hmm.keys():\n",
    "                somme_alpha =  somme_alpha + alpha[phrase2[i]][clef]*a_hmm[clef][key]\n",
    "            \n",
    "            alpha[phrase2[i+1]][key] = (b_hmm[key].get(phrase2[i+1], 0) + epsilon) * somme_alpha\n",
    "            \n",
    "        norma = np.sum(list(alpha[phrase2[i+1]].values()))\n",
    "        alpha[phrase2[i+1]] = {key:value / norma for (key,value) in alpha[phrase2[i+1]].items()}\n",
    "\n",
    "    return alpha\n",
    "\n",
    "\n"
   ]
  },
  {
   "cell_type": "code",
   "execution_count": 36,
   "metadata": {},
   "outputs": [],
   "source": [
    "def beta(phrase2, epsilon):\n",
    "    beta = {}\n",
    "\n",
    "    for i in phrase2 :\n",
    "        beta[i] = {}\n",
    "        for j in a_hmm.keys():\n",
    "            beta[i][j] = 0 \n",
    "\n",
    "    for key in a_hmm.keys():\n",
    "        beta[phrase2[-1]][key] = 1 / 15\n",
    "    norma = np.sum(list(beta[phrase2[-1]].values()))\n",
    "    beta[phrase2[-1]] = {key:value / norma for (key,value) in beta[phrase2[-1]].items()}\n",
    "\n",
    "    for i in range(len(phrase2)-1, 0,  -1):\n",
    "        for key in a_hmm.keys():\n",
    "            somme_beta = 0\n",
    "            for clef in a_hmm.keys():\n",
    "                somme_beta =  somme_beta + beta[phrase2[i]][clef]*a_hmm[key][clef]*(b_hmm[clef].get(phrase2[i], 0) + epsilon)\n",
    "            \n",
    "            beta[phrase2[i-1]][key] = somme_beta\n",
    "            \n",
    "        norma = np.sum(list(beta[phrase2[i-1]].values()))\n",
    "        beta[phrase2[i-1]] = {key:value / norma for (key,value) in beta[phrase2[i-1]].items()}\n",
    "\n",
    "    \n",
    "    return beta\n",
    "\n"
   ]
  },
  {
   "cell_type": "code",
   "execution_count": 37,
   "metadata": {},
   "outputs": [],
   "source": [
    "alpha_p2 = alpha(phrase2, epsilon)\n",
    "beta_p2 = beta(phrase2, epsilon)"
   ]
  },
  {
   "cell_type": "code",
   "execution_count": 38,
   "metadata": {},
   "outputs": [],
   "source": [
    "gamma = {}\n",
    "\n",
    "for i in phrase2 :\n",
    "    gamma[i] = {}\n",
    "    for j in a_hmm.keys():\n",
    "        gamma[i][j] = 0 \n",
    "\n",
    "for i in range(len(phrase2)):\n",
    "    for key in a_hmm.keys():\n",
    "        gamma[phrase2[i]][key] = alpha_p2[phrase2[i]][key] * beta_p2[phrase2[i]][key]"
   ]
  },
  {
   "cell_type": "markdown",
   "metadata": {},
   "source": [
    "    Afficher les labels prédits sur la phrase: [\"I\", \"am\", \"a\", \"student\", \"in\", \"a\", \"French\", \"school\",\".\"]"
   ]
  },
  {
   "cell_type": "code",
   "execution_count": 39,
   "metadata": {},
   "outputs": [],
   "source": [
    "prediction = []\n",
    "for i in range(len(phrase2)):\n",
    "    prediction.append(max(gamma[phrase2[i]], key=gamma[phrase2[i]].get))"
   ]
  },
  {
   "cell_type": "code",
   "execution_count": 40,
   "metadata": {},
   "outputs": [
    {
     "name": "stdout",
     "output_type": "stream",
     "text": [
      "['I', 'am', 'a', 'student', 'in', 'a', 'French', 'school', '.']\n",
      "['PRON', 'VERB', 'DET', 'NOUN', 'ADP', 'DET', 'ADJ', 'NOUN', 'PUNCT']\n"
     ]
    }
   ],
   "source": [
    "print(phrase2)\n",
    "print(prediction)"
   ]
  },
  {
   "cell_type": "markdown",
   "metadata": {},
   "source": [
    "Appliquer la chaîne de Markov cachée avec Forward-Backward sur tout le corpus de\n",
    "test, et donnez le pourcentage de mots bien labélisés, avec $\\epsilon = 10^{−5}$. Vous devriez trouver\n",
    "un score  nal de 93.94854043."
   ]
  },
  {
   "cell_type": "code",
   "execution_count": 41,
   "metadata": {},
   "outputs": [
    {
     "name": "stdout",
     "output_type": "stream",
     "text": [
      "92.71376406273086\n"
     ]
    }
   ],
   "source": [
    "####################################################################\n",
    "######### Chaine de Markov caché appliqué sur le test _set #########\n",
    "####################################################################\n",
    "\n",
    "count = []\n",
    "epsilon = 10**-5\n",
    "\n",
    "for i in range(0, len(test_set), 1):\n",
    "    for label, mot2 in test_set[i]:\n",
    "        mot = [mot2]\n",
    "    \n",
    "        alpha_t = alpha(phrase2 = mot, epsilon = epsilon)\n",
    "        beta_t = beta(phrase2 = mot, epsilon = epsilon)\n",
    "        \n",
    "        gamma_t = {}\n",
    "\n",
    "        for k in mot :\n",
    "            gamma_t[k] = {}\n",
    "            for l in a_hmm.keys():\n",
    "                gamma_t[k][l] = 0 \n",
    "\n",
    "        for i in range(len(mot)):\n",
    "            for key in a_hmm.keys():\n",
    "                gamma_t[mot[0]][key] = alpha_t[mot[0]][key] * beta_t[mot[0]][key]\n",
    "\n",
    "        pred = max(gamma_t[mot[0]], key=gamma_t[mot[0]].get)\n",
    "\n",
    "        if pred == label:\n",
    "            count.append(1)\n",
    "        else:\n",
    "            count.append(0)\n",
    "        \n",
    "\n",
    "\n",
    "print((sum(count) / len(count)) * 100)"
   ]
  },
  {
   "cell_type": "markdown",
   "metadata": {},
   "source": [
    "## <span style=\"color:red\">Exercice 3</span>"
   ]
  },
  {
   "cell_type": "markdown",
   "metadata": {},
   "source": [
    "## Filtrage de Kalman"
   ]
  },
  {
   "cell_type": "markdown",
   "metadata": {},
   "source": [
    "### 3.1 Introduction"
   ]
  },
  {
   "cell_type": "markdown",
   "metadata": {},
   "source": [
    "Vous disposez d’une série temporelle y1:T de taille T = 10000. Vous pouvez charger les signaux\n",
    "ainsi:"
   ]
  },
  {
   "cell_type": "code",
   "execution_count": 42,
   "metadata": {},
   "outputs": [],
   "source": [
    "path = \"TP3_functions/\"\n",
    "\n",
    "# Signal d'origine\n",
    "X = np.loadtxt(path + \"signal_X.txt\")\n",
    "# Version bruité\n",
    "Y = np.loadtxt(path + \"signal_Y.txt\")"
   ]
  },
  {
   "cell_type": "code",
   "execution_count": 43,
   "metadata": {},
   "outputs": [],
   "source": [
    "import  matplotlib.pylab as plt"
   ]
  },
  {
   "cell_type": "code",
   "execution_count": 44,
   "metadata": {},
   "outputs": [
    {
     "data": {
      "text/plain": [
       "[<matplotlib.lines.Line2D at 0x7f834668f048>]"
      ]
     },
     "execution_count": 44,
     "metadata": {},
     "output_type": "execute_result"
    },
    {
     "data": {
      "image/png": "[encoded data removed]",
      "text/plain": [
       "<Figure size 432x288 with 1 Axes>"
      ]
     },
     "metadata": {
      "needs_background": "light"
     },
     "output_type": "display_data"
    }
   ],
   "source": [
    "plt.plot(X)"
   ]
  },
  {
   "cell_type": "code",
   "execution_count": 45,
   "metadata": {},
   "outputs": [
    {
     "data": {
      "text/plain": [
       "[<matplotlib.lines.Line2D at 0x7f83467a7a90>]"
      ]
     },
     "execution_count": 45,
     "metadata": {},
     "output_type": "execute_result"
    },
    {
     "data": {
      "image/png": "[encoded data removed]",
      "text/plain": [
       "<Figure size 432x288 with 1 Axes>"
      ]
     },
     "metadata": {
      "needs_background": "light"
     },
     "output_type": "display_data"
    }
   ],
   "source": [
    "plt.plot(Y)"
   ]
  },
  {
   "cell_type": "markdown",
   "metadata": {},
   "source": [
    "**Estimer la valeur des paramètres a et b de manière non supervisée.** "
   ]
  },
  {
   "cell_type": "markdown",
   "metadata": {},
   "source": [
    "Dans le cas non suppervisé les valeur de a et b sont =\n",
    "\n",
    "$a*b^{2} = cov(y_{t}, y_{t+1}) = cov1$\n",
    "\n",
    "$a^{2}*b^{2} = cov(y_{t}, y_{t+2}) = cov2$\n",
    "\n",
    "    i.e.\n",
    "\n",
    "***$a = cov2 / cov1$***\n",
    "\n",
    "    &\n",
    "\n",
    "***$b = cov1 / cov2^{1/2}$***"
   ]
  },
  {
   "cell_type": "code",
   "execution_count": 46,
   "metadata": {},
   "outputs": [],
   "source": [
    "def estim_param_Y(Y):\n",
    "\n",
    "    cov1 = 0\n",
    "    prev_y = Y[0]\n",
    "    for y in Y[1:]:\n",
    "        cov1 +=  prev_y * y\n",
    "        prev_y = y\n",
    "    \n",
    "    cov1 = cov1 / (len(Y) - 1) \n",
    "\n",
    "\n",
    "    cov2 = 0\n",
    "    prev_y = Y[0]\n",
    "    for k in range (len(Y[1:])-2):\n",
    "        cov2 += prev_y * Y[k+2]\n",
    "        prev_y = Y[k+1]\n",
    "\n",
    "    cov2 = cov2 / (len(Y) - 2)\n",
    "\n",
    "    print(cov1, cov2)\n",
    "\n",
    "    a = cov2 / cov1\n",
    "    b = cov1 / np.sqrt(cov2)\n",
    "\n",
    "    return a, b\n"
   ]
  },
  {
   "cell_type": "code",
   "execution_count": 47,
   "metadata": {},
   "outputs": [
    {
     "name": "stdout",
     "output_type": "stream",
     "text": [
      "0.4684381378248499 0.2795609305487001\n"
     ]
    },
    {
     "data": {
      "text/plain": [
       "(0.5967937022523743, 0.8859597810948914)"
      ]
     },
     "execution_count": 47,
     "metadata": {},
     "output_type": "execute_result"
    }
   ],
   "source": [
    "a, b = estim_param_Y(Y)\n",
    "\n",
    "a, b"
   ]
  },
  {
   "cell_type": "markdown",
   "metadata": {},
   "source": [
    "Coder un filtre de Kalman afin de restaurer le signal $\\overset{chap}{x}_{1 : T}$ à partir de $y_{1 : T}$."
   ]
  },
  {
   "cell_type": "code",
   "execution_count": 48,
   "metadata": {},
   "outputs": [],
   "source": [
    "def filtre_kalman(Y, a, b):\n",
    "    y_t1 = Y[0]\n",
    "    x_tt = y_t1 * b\n",
    "    sigma_tt = 1 - b**2\n",
    "    X_tt = [x_tt]\n",
    "\n",
    "    for i in range (len(Y) - 1):\n",
    "        # step 1 : Prediction\n",
    "        y_t1 = Y[i+1]\n",
    "        x_t1t = a * x_tt\n",
    "        sigma_t1t = 1 - a**2 + a**2 * sigma_tt\n",
    "\n",
    "        # step2 : Mise à jour\n",
    "        y_tilde = y_t1 - b * x_t1t\n",
    "        S = b**2 * sigma_t1t + 1 - b**2\n",
    "        K = (b / S) * sigma_t1t\n",
    "        x_t1t1 = x_t1t + K * y_tilde # A retenir pour l'estimation\n",
    "        sigma_t1t1 = (1 - b*K) * sigma_t1t \n",
    "\n",
    "        # glissement des variables\n",
    "        x_tt = x_t1t1\n",
    "        sigma_tt = sigma_t1t1\n",
    "\n",
    "        # L'estimation\n",
    "        X_tt.append(x_tt)\n",
    "\n",
    "    return X_tt"
   ]
  },
  {
   "cell_type": "markdown",
   "metadata": {},
   "source": [
    "**Évaluez le filtre en calculant l’erreur quadratique moyenne entre $\\overset{chap}{x}$ et le signal\n",
    "restauré x. Calculez également l’erreur quadratique moyenne entre x et y, que pouvez-vous\n",
    "conclure ?**"
   ]
  },
  {
   "cell_type": "markdown",
   "metadata": {},
   "source": [
    "**$EQM(x_{1:T}, xchap_{1:T}) = \\frac{1}{T} * \\sum_{t=1}^{T}(x_{t} - xchap_{t})^{2} $**"
   ]
  },
  {
   "cell_type": "code",
   "execution_count": 49,
   "metadata": {},
   "outputs": [],
   "source": [
    "def EQM(X, Y):\n",
    "    eqm = 0\n",
    "    for i in range(len(X)):\n",
    "        eqm += (X[i] - Y[i])**2\n",
    "    eqm = eqm / len(X)\n",
    "    \n",
    "    return eqm\n"
   ]
  },
  {
   "cell_type": "markdown",
   "metadata": {},
   "source": [
    "**Afficher sur un graphique les 100 premières itérations du signal restauré et le signal\n",
    "d’origine.**"
   ]
  },
  {
   "cell_type": "code",
   "execution_count": 50,
   "metadata": {},
   "outputs": [],
   "source": [
    "X_tt = filtre_kalman(Y, a, b)"
   ]
  },
  {
   "cell_type": "code",
   "execution_count": 51,
   "metadata": {},
   "outputs": [
    {
     "name": "stdout",
     "output_type": "stream",
     "text": [
      "len X_tt : 10000 ; len X : 10000\n"
     ]
    }
   ],
   "source": [
    "print('len X_tt : {} ; len X : {}'.format(len(X_tt), len(X)))"
   ]
  },
  {
   "cell_type": "code",
   "execution_count": 52,
   "metadata": {},
   "outputs": [
    {
     "name": "stdout",
     "output_type": "stream",
     "text": [
      "l erreur quadratique moyenne (entre X_tt & X) =  0.17449736949466563\n"
     ]
    }
   ],
   "source": [
    "print(\"l erreur quadratique moyenne (entre X_tt & X) = \", EQM(X_tt, X))"
   ]
  },
  {
   "cell_type": "code",
   "execution_count": 53,
   "metadata": {},
   "outputs": [
    {
     "name": "stdout",
     "output_type": "stream",
     "text": [
      "l erreur quadratique moyenne (entre X & Y) =  0.20225719834189304\n"
     ]
    }
   ],
   "source": [
    "print(\"l erreur quadratique moyenne (entre X & Y) = \", EQM(X, Y))"
   ]
  },
  {
   "cell_type": "markdown",
   "metadata": {},
   "source": [
    "Le filtre de Kalman a donc bien corrigé le signal, l'EQM est plus faible que sans."
   ]
  },
  {
   "cell_type": "code",
   "execution_count": 54,
   "metadata": {},
   "outputs": [
    {
     "data": {
      "image/png": "[encoded data removed]",
      "text/plain": [
       "<Figure size 1080x648 with 1 Axes>"
      ]
     },
     "metadata": {
      "needs_background": "light"
     },
     "output_type": "display_data"
    }
   ],
   "source": [
    "fig = plt.figure(1, figsize=(15, 9))\n",
    "\n",
    "plt.plot(X_tt[:100], color = 'red', label = 'Signal filtre de Kalman')\n",
    "plt.plot(X[:100], color = 'blue', label = 'Signal d origine X')\n",
    "plt.legend()\n",
    "plt.title(\"Comparaison des 100 premières valeurs du signal d'origine et du resultat du filtre de Kalman \")\n",
    "plt.show()"
   ]
  },
  {
   "cell_type": "code",
   "execution_count": null,
   "metadata": {},
   "outputs": [],
   "source": []
  }
 ],
 "metadata": {
  "interpreter": {
   "hash": "20aaa7744c52b875765cbc9b8505c0be79a573a314d2dbdbfe5ae064dbf07c20"
  },
  "kernelspec": {
   "display_name": "Python 3.6.7 64-bit ('base': conda)",
   "name": "python3"
  },
  "language_info": {
   "codemirror_mode": {
    "name": "ipython",
    "version": 3
   },
   "file_extension": ".py",
   "mimetype": "text/x-python",
   "name": "python",
   "nbconvert_exporter": "python",
   "pygments_lexer": "ipython3",
   "version": "3.6.7"
  },
  "orig_nbformat": 4
 },
 "nbformat": 4,
 "nbformat_minor": 2
}
